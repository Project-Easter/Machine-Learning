{
  "nbformat": 4,
  "nbformat_minor": 0,
  "metadata": {
    "colab": {
      "name": "Modle3(1).ipynb",
      "provenance": [],
      "collapsed_sections": [],
      "toc_visible": true
    },
    "kernelspec": {
      "name": "python3",
      "display_name": "Python 3"
    }
  },
  "cells": [
    {
      "cell_type": "code",
      "metadata": {
        "id": "9kCsBuVs2Oae"
      },
      "source": [
        "import numpy as np\r\n",
        "import pandas as pd\r\n",
        "import os"
      ],
      "execution_count": null,
      "outputs": []
    },
    {
      "cell_type": "code",
      "metadata": {
        "colab": {
          "base_uri": "https://localhost:8080/"
        },
        "id": "niAmRbyRnTGD",
        "outputId": "b8199f37-a75f-424e-9518-b50b9bf5988c"
      },
      "source": [
        "from google.colab import drive\r\n",
        "drive.mount('/content/gdrive')"
      ],
      "execution_count": null,
      "outputs": [
        {
          "output_type": "stream",
          "text": [
            "Drive already mounted at /content/gdrive; to attempt to forcibly remount, call drive.mount(\"/content/gdrive\", force_remount=True).\n"
          ],
          "name": "stdout"
        }
      ]
    },
    {
      "cell_type": "code",
      "metadata": {
        "id": "Bdb1OkFOnVw3"
      },
      "source": [
        "os.chdir('/content/gdrive/MyDrive/book model datas/practice projects/')"
      ],
      "execution_count": null,
      "outputs": []
    },
    {
      "cell_type": "code",
      "metadata": {
        "id": "gBzfntZMngdt"
      },
      "source": [
        "book_details=pd.read_csv('model_2_data.csv',sep=',',error_bad_lines=False,encoding='latin1')"
      ],
      "execution_count": null,
      "outputs": []
    },
    {
      "cell_type": "code",
      "metadata": {
        "id": "vWxiolM3nlSK"
      },
      "source": [
        "book1=book_details.fillna(0)"
      ],
      "execution_count": null,
      "outputs": []
    },
    {
      "cell_type": "code",
      "metadata": {
        "colab": {
          "base_uri": "https://localhost:8080/",
          "height": 195
        },
        "id": "2WMfD_nQntQq",
        "outputId": "8ad782ff-46a7-4c01-df00-2c270fc6e563"
      },
      "source": [
        "book1.head()"
      ],
      "execution_count": null,
      "outputs": [
        {
          "output_type": "execute_result",
          "data": {
            "text/html": [
              "<div>\n",
              "<style scoped>\n",
              "    .dataframe tbody tr th:only-of-type {\n",
              "        vertical-align: middle;\n",
              "    }\n",
              "\n",
              "    .dataframe tbody tr th {\n",
              "        vertical-align: top;\n",
              "    }\n",
              "\n",
              "    .dataframe thead th {\n",
              "        text-align: right;\n",
              "    }\n",
              "</style>\n",
              "<table border=\"1\" class=\"dataframe\">\n",
              "  <thead>\n",
              "    <tr style=\"text-align: right;\">\n",
              "      <th></th>\n",
              "      <th>user_id</th>\n",
              "      <th>title</th>\n",
              "      <th>author</th>\n",
              "      <th>publisher</th>\n",
              "      <th>isbn</th>\n",
              "      <th>language</th>\n",
              "      <th>no_of_exchanges</th>\n",
              "      <th>rating</th>\n",
              "    </tr>\n",
              "  </thead>\n",
              "  <tbody>\n",
              "    <tr>\n",
              "      <th>0</th>\n",
              "      <td>Z4gCnjTUahoz2qaZmk9GJt</td>\n",
              "      <td>Basics of the U.S. Health Care System: Edition 2</td>\n",
              "      <td>Nancy J. Niles</td>\n",
              "      <td>Jones &amp; Bartlett Learning</td>\n",
              "      <td>9.781284e+12</td>\n",
              "      <td>English</td>\n",
              "      <td>3</td>\n",
              "      <td>2.3</td>\n",
              "    </tr>\n",
              "    <tr>\n",
              "      <th>1</th>\n",
              "      <td>PwS6wrs4jTJTRrENQ4ErfH</td>\n",
              "      <td>Financial Accounting Theory</td>\n",
              "      <td>Craig Deegan</td>\n",
              "      <td>McGraw-Hill Education Australia</td>\n",
              "      <td>9.781743e+12</td>\n",
              "      <td>English</td>\n",
              "      <td>7</td>\n",
              "      <td>4.7</td>\n",
              "    </tr>\n",
              "    <tr>\n",
              "      <th>2</th>\n",
              "      <td>JysYJh9MJsgB92MH86syxU</td>\n",
              "      <td>Delivering Health Care in America: A Systems A...</td>\n",
              "      <td>Leiyu Shi</td>\n",
              "      <td>Jones &amp; Bartlett Learning</td>\n",
              "      <td>9.781284e+12</td>\n",
              "      <td>English</td>\n",
              "      <td>7</td>\n",
              "      <td>1.5</td>\n",
              "    </tr>\n",
              "    <tr>\n",
              "      <th>3</th>\n",
              "      <td>ZNanmaD93chZqkq5JHzM2t</td>\n",
              "      <td>Fraud and Fraud Detection: A Data Analytics Ap...</td>\n",
              "      <td>Sunder Gee</td>\n",
              "      <td>John Wiley &amp; Sons</td>\n",
              "      <td>9.781119e+12</td>\n",
              "      <td>English</td>\n",
              "      <td>1</td>\n",
              "      <td>5.0</td>\n",
              "    </tr>\n",
              "    <tr>\n",
              "      <th>4</th>\n",
              "      <td>JGUfL4yHZzQhKSLPcMbc3e</td>\n",
              "      <td>Financial Institutions| Instruments and Market...</td>\n",
              "      <td>Christopher Viney</td>\n",
              "      <td>McGraw-Hill Education Australia</td>\n",
              "      <td>9.781744e+12</td>\n",
              "      <td>English</td>\n",
              "      <td>3</td>\n",
              "      <td>1.7</td>\n",
              "    </tr>\n",
              "  </tbody>\n",
              "</table>\n",
              "</div>"
            ],
            "text/plain": [
              "                  user_id  ...  rating\n",
              "0  Z4gCnjTUahoz2qaZmk9GJt  ...     2.3\n",
              "1  PwS6wrs4jTJTRrENQ4ErfH  ...     4.7\n",
              "2  JysYJh9MJsgB92MH86syxU  ...     1.5\n",
              "3  ZNanmaD93chZqkq5JHzM2t  ...     5.0\n",
              "4  JGUfL4yHZzQhKSLPcMbc3e  ...     1.7\n",
              "\n",
              "[5 rows x 8 columns]"
            ]
          },
          "metadata": {
            "tags": []
          },
          "execution_count": 6
        }
      ]
    },
    {
      "cell_type": "code",
      "metadata": {
        "colab": {
          "base_uri": "https://localhost:8080/"
        },
        "id": "53Rla4nTnu8y",
        "outputId": "085db07d-8d33-4def-85b0-62466bc1fa21"
      },
      "source": [
        "book1.shape"
      ],
      "execution_count": null,
      "outputs": [
        {
          "output_type": "execute_result",
          "data": {
            "text/plain": [
              "(2151, 8)"
            ]
          },
          "metadata": {
            "tags": []
          },
          "execution_count": 7
        }
      ]
    },
    {
      "cell_type": "code",
      "metadata": {
        "colab": {
          "base_uri": "https://localhost:8080/"
        },
        "id": "iG2WyL9ln4d-",
        "outputId": "de09743a-f62d-40da-ee1b-0ac21d745a9a"
      },
      "source": [
        "book1.info()"
      ],
      "execution_count": null,
      "outputs": [
        {
          "output_type": "stream",
          "text": [
            "<class 'pandas.core.frame.DataFrame'>\n",
            "RangeIndex: 2151 entries, 0 to 2150\n",
            "Data columns (total 8 columns):\n",
            " #   Column            Non-Null Count  Dtype  \n",
            "---  ------            --------------  -----  \n",
            " 0   user_id           2151 non-null   object \n",
            " 1    title            2151 non-null   object \n",
            " 2    author           2151 non-null   object \n",
            " 3    publisher        2151 non-null   object \n",
            " 4    isbn             2151 non-null   float64\n",
            " 5    language         2151 non-null   object \n",
            " 6    no_of_exchanges  2151 non-null   int64  \n",
            " 7    rating           2151 non-null   float64\n",
            "dtypes: float64(2), int64(1), object(5)\n",
            "memory usage: 134.6+ KB\n"
          ],
          "name": "stdout"
        }
      ]
    },
    {
      "cell_type": "code",
      "metadata": {
        "id": "6zIVfpQGn88N"
      },
      "source": [
        ""
      ],
      "execution_count": null,
      "outputs": []
    },
    {
      "cell_type": "markdown",
      "metadata": {
        "id": "i99_kVxUoFp3"
      },
      "source": [
        "## Content based recommendation system"
      ]
    },
    {
      "cell_type": "code",
      "metadata": {
        "id": "_Qo5_xVkoK0D"
      },
      "source": [
        "# Reverse mapping of indices and movie titles\r\n",
        "indices = pd.Series(book1.index, index=book1[' title']).drop_duplicates()"
      ],
      "execution_count": null,
      "outputs": []
    },
    {
      "cell_type": "code",
      "metadata": {
        "colab": {
          "base_uri": "https://localhost:8080/"
        },
        "id": "tQmU4RvOoo7u",
        "outputId": "83c61fc2-41ec-48c4-e8c6-0666a5190e6d"
      },
      "source": [
        "indices"
      ],
      "execution_count": null,
      "outputs": [
        {
          "output_type": "execute_result",
          "data": {
            "text/plain": [
              " title\n",
              "Basics of the U.S. Health Care System: Edition 2                       0\n",
              "Financial Accounting Theory                                            1\n",
              "Delivering Health Care in America: A Systems Approach| Edition 6       2\n",
              "Fraud and Fraud Detection: A Data Analytics Approach                   3\n",
              "Financial Institutions| Instruments and Markets| 8th edition           4\n",
              "                                                                    ... \n",
              "Captains of the Sands                                               2146\n",
              "4 años a bordo de mí mismo: (Diario de los 5 sentidos)              2147\n",
              "Eres buena y lo sabes                                               2148\n",
              "Tu cruz en el cielo desierto                                        2149\n",
              "The World in Half                                                   2150\n",
              "Length: 2151, dtype: int64"
            ]
          },
          "metadata": {
            "tags": []
          },
          "execution_count": 10
        }
      ]
    },
    {
      "cell_type": "code",
      "metadata": {
        "colab": {
          "base_uri": "https://localhost:8080/"
        },
        "id": "rwVhn-vpoqSM",
        "outputId": "6e1ec6ed-cd67-4a92-8c78-df0a2b55ea20"
      },
      "source": [
        "book1.columns"
      ],
      "execution_count": null,
      "outputs": [
        {
          "output_type": "execute_result",
          "data": {
            "text/plain": [
              "Index(['user_id', ' title', ' author', ' publisher', ' isbn', ' language',\n",
              "       ' no_of_exchanges', ' rating'],\n",
              "      dtype='object')"
            ]
          },
          "metadata": {
            "tags": []
          },
          "execution_count": 11
        }
      ]
    },
    {
      "cell_type": "code",
      "metadata": {
        "colab": {
          "base_uri": "https://localhost:8080/",
          "height": 195
        },
        "id": "5q8vw2Tcp0z1",
        "outputId": "1181ca76-b83d-4d64-cbb8-6ecd9fe71aad"
      },
      "source": [
        "book1.sort_values(' rating',ascending=False).head()"
      ],
      "execution_count": null,
      "outputs": [
        {
          "output_type": "execute_result",
          "data": {
            "text/html": [
              "<div>\n",
              "<style scoped>\n",
              "    .dataframe tbody tr th:only-of-type {\n",
              "        vertical-align: middle;\n",
              "    }\n",
              "\n",
              "    .dataframe tbody tr th {\n",
              "        vertical-align: top;\n",
              "    }\n",
              "\n",
              "    .dataframe thead th {\n",
              "        text-align: right;\n",
              "    }\n",
              "</style>\n",
              "<table border=\"1\" class=\"dataframe\">\n",
              "  <thead>\n",
              "    <tr style=\"text-align: right;\">\n",
              "      <th></th>\n",
              "      <th>user_id</th>\n",
              "      <th>title</th>\n",
              "      <th>author</th>\n",
              "      <th>publisher</th>\n",
              "      <th>isbn</th>\n",
              "      <th>language</th>\n",
              "      <th>no_of_exchanges</th>\n",
              "      <th>rating</th>\n",
              "    </tr>\n",
              "  </thead>\n",
              "  <tbody>\n",
              "    <tr>\n",
              "      <th>1600</th>\n",
              "      <td>kpGP3V58AnZRZBEpNp3r68</td>\n",
              "      <td>St Piran's: Tiny Miracle Twins (Mills &amp; Boon M...</td>\n",
              "      <td>Maggie Kingsley</td>\n",
              "      <td>HarperCollins UK</td>\n",
              "      <td>9.781409e+12</td>\n",
              "      <td>English</td>\n",
              "      <td>4</td>\n",
              "      <td>5.0</td>\n",
              "    </tr>\n",
              "    <tr>\n",
              "      <th>1356</th>\n",
              "      <td>NZS5rpufoHV5pkM4ivfPRn</td>\n",
              "      <td>Ki: The Complete Series</td>\n",
              "      <td>Odette C. Bell</td>\n",
              "      <td>Odette C. Bell</td>\n",
              "      <td>0.000000e+00</td>\n",
              "      <td>English</td>\n",
              "      <td>0</td>\n",
              "      <td>5.0</td>\n",
              "    </tr>\n",
              "    <tr>\n",
              "      <th>2014</th>\n",
              "      <td>kxVBUghvxKx94WMn4n3K7n</td>\n",
              "      <td>The Royal Wedding Collection: Once Upon A Prin...</td>\n",
              "      <td>Rachel Hauck</td>\n",
              "      <td>Zondervan</td>\n",
              "      <td>9.780310e+12</td>\n",
              "      <td>English</td>\n",
              "      <td>6</td>\n",
              "      <td>5.0</td>\n",
              "    </tr>\n",
              "    <tr>\n",
              "      <th>1453</th>\n",
              "      <td>ekcQ3UUyyBCaVVR2necTZZ</td>\n",
              "      <td>BEDHUND</td>\n",
              "      <td>AVINASH HAMBIRRAO LONDHE</td>\n",
              "      <td>MEHTA PUBLISHING HOUSE</td>\n",
              "      <td>9.789353e+12</td>\n",
              "      <td>Marathi</td>\n",
              "      <td>1</td>\n",
              "      <td>5.0</td>\n",
              "    </tr>\n",
              "    <tr>\n",
              "      <th>120</th>\n",
              "      <td>8fkijfv3QzeX9itocbGWc5</td>\n",
              "      <td>Understanding Sociological Theory for Educatio...</td>\n",
              "      <td>Tania Ferfolja</td>\n",
              "      <td>Cambridge University Press</td>\n",
              "      <td>9.781316e+12</td>\n",
              "      <td>English</td>\n",
              "      <td>6</td>\n",
              "      <td>5.0</td>\n",
              "    </tr>\n",
              "  </tbody>\n",
              "</table>\n",
              "</div>"
            ],
            "text/plain": [
              "                     user_id  ...  rating\n",
              "1600  kpGP3V58AnZRZBEpNp3r68  ...     5.0\n",
              "1356  NZS5rpufoHV5pkM4ivfPRn  ...     5.0\n",
              "2014  kxVBUghvxKx94WMn4n3K7n  ...     5.0\n",
              "1453  ekcQ3UUyyBCaVVR2necTZZ  ...     5.0\n",
              "120   8fkijfv3QzeX9itocbGWc5  ...     5.0\n",
              "\n",
              "[5 rows x 8 columns]"
            ]
          },
          "metadata": {
            "tags": []
          },
          "execution_count": 12
        }
      ]
    },
    {
      "cell_type": "code",
      "metadata": {
        "id": "NE903WyQrvLV"
      },
      "source": [
        "user_details=pd.read_csv('model1_data.csv')"
      ],
      "execution_count": null,
      "outputs": []
    },
    {
      "cell_type": "code",
      "metadata": {
        "id": "ux77J1MdsHWu"
      },
      "source": [
        "book1=book1.rename(columns={'user_id':'user_id', ' title':'title', ' author':'author', ' publisher':'publisher', ' isbn':'isbn', ' language':'language',\r\n",
        "       ' no_of_exchanges':'no_of_exchanges', ' rating':'rating'})"
      ],
      "execution_count": null,
      "outputs": []
    },
    {
      "cell_type": "code",
      "metadata": {
        "colab": {
          "base_uri": "https://localhost:8080/"
        },
        "id": "Ac_YeSbiwmV_",
        "outputId": "827cfbeb-f939-4780-b504-c5da531acf66"
      },
      "source": [
        "book1.columns"
      ],
      "execution_count": null,
      "outputs": [
        {
          "output_type": "execute_result",
          "data": {
            "text/plain": [
              "Index(['user_id', 'title', 'author', 'publisher', 'isbn', 'language',\n",
              "       'no_of_exchanges', 'rating'],\n",
              "      dtype='object')"
            ]
          },
          "metadata": {
            "tags": []
          },
          "execution_count": 20
        }
      ]
    },
    {
      "cell_type": "code",
      "metadata": {
        "colab": {
          "base_uri": "https://localhost:8080/",
          "height": 195
        },
        "id": "_ILMB_MBp03G",
        "outputId": "d4eb6adf-f02f-430b-c29f-5df92cc6e04e"
      },
      "source": [
        "combine_book_rating = book1.dropna(axis = 0, subset = ['title'])\r\n",
        "\r\n",
        "book_ratingCount = (combine_book_rating.\r\n",
        "     groupby(by = ['title'])['no_of_exchanges'].\r\n",
        "     count().\r\n",
        "     reset_index())\r\n",
        "book_ratingCount.head()"
      ],
      "execution_count": null,
      "outputs": [
        {
          "output_type": "execute_result",
          "data": {
            "text/html": [
              "<div>\n",
              "<style scoped>\n",
              "    .dataframe tbody tr th:only-of-type {\n",
              "        vertical-align: middle;\n",
              "    }\n",
              "\n",
              "    .dataframe tbody tr th {\n",
              "        vertical-align: top;\n",
              "    }\n",
              "\n",
              "    .dataframe thead th {\n",
              "        text-align: right;\n",
              "    }\n",
              "</style>\n",
              "<table border=\"1\" class=\"dataframe\">\n",
              "  <thead>\n",
              "    <tr style=\"text-align: right;\">\n",
              "      <th></th>\n",
              "      <th>title</th>\n",
              "      <th>no_of_exchanges</th>\n",
              "    </tr>\n",
              "  </thead>\n",
              "  <tbody>\n",
              "    <tr>\n",
              "      <th>0</th>\n",
              "      <td>#6 Shades of Gray: Dawn of the Twilight- Outbreak</td>\n",
              "      <td>2</td>\n",
              "    </tr>\n",
              "    <tr>\n",
              "      <th>1</th>\n",
              "      <td>#9 Shades of Gray: Rise Of The Gorgons</td>\n",
              "      <td>1</td>\n",
              "    </tr>\n",
              "    <tr>\n",
              "      <th>2</th>\n",
              "      <td>#MexicanRevolution</td>\n",
              "      <td>1</td>\n",
              "    </tr>\n",
              "    <tr>\n",
              "      <th>3</th>\n",
              "      <td>10 Minutes 38 Seconds in this Strange World: S...</td>\n",
              "      <td>2</td>\n",
              "    </tr>\n",
              "    <tr>\n",
              "      <th>4</th>\n",
              "      <td>100/40 Cien relatos durante la cuarentena</td>\n",
              "      <td>1</td>\n",
              "    </tr>\n",
              "  </tbody>\n",
              "</table>\n",
              "</div>"
            ],
            "text/plain": [
              "                                               title  no_of_exchanges\n",
              "0  #6 Shades of Gray: Dawn of the Twilight- Outbreak                2\n",
              "1             #9 Shades of Gray: Rise Of The Gorgons                1\n",
              "2                                 #MexicanRevolution                1\n",
              "3  10 Minutes 38 Seconds in this Strange World: S...                2\n",
              "4          100/40 Cien relatos durante la cuarentena                1"
            ]
          },
          "metadata": {
            "tags": []
          },
          "execution_count": 21
        }
      ]
    },
    {
      "cell_type": "code",
      "metadata": {
        "id": "5biZu9T3t_d3"
      },
      "source": [
        ""
      ],
      "execution_count": null,
      "outputs": []
    },
    {
      "cell_type": "code",
      "metadata": {
        "id": "lvwCCAuap06z"
      },
      "source": [
        "rating_with_totalRatingCount = combine_book_rating.merge(book_ratingCount, left_on = 'title', right_on = 'title', how = 'left')\r\n",
        "# rating_with_totalRatingCount.head()"
      ],
      "execution_count": null,
      "outputs": []
    },
    {
      "cell_type": "code",
      "metadata": {
        "colab": {
          "base_uri": "https://localhost:8080/"
        },
        "id": "O1q21Gr3p0-Y",
        "outputId": "e4f8c5ea-b475-48a5-dc8b-da52ffd64cc9"
      },
      "source": [
        "pd.set_option('display.float_format', lambda x: '%.3f' % x)\r\n",
        "print(book_ratingCount['no_of_exchanges'].describe())"
      ],
      "execution_count": null,
      "outputs": [
        {
          "output_type": "stream",
          "text": [
            "count   1726.000\n",
            "mean       1.246\n",
            "std        0.630\n",
            "min        1.000\n",
            "25%        1.000\n",
            "50%        1.000\n",
            "75%        1.000\n",
            "max        7.000\n",
            "Name: no_of_exchanges, dtype: float64\n"
          ],
          "name": "stdout"
        }
      ]
    },
    {
      "cell_type": "code",
      "metadata": {
        "colab": {
          "base_uri": "https://localhost:8080/"
        },
        "id": "1YT5nooQps-u",
        "outputId": "0a985cdb-aa4b-4a53-a4c6-9c486f727c25"
      },
      "source": [
        "print(book_ratingCount['no_of_exchanges'].quantile(np.arange(.9, 1, .01)))"
      ],
      "execution_count": null,
      "outputs": [
        {
          "output_type": "stream",
          "text": [
            "0.900   2.000\n",
            "0.910   2.000\n",
            "0.920   2.000\n",
            "0.930   2.000\n",
            "0.940   2.000\n",
            "0.950   3.000\n",
            "0.960   3.000\n",
            "0.970   3.000\n",
            "0.980   3.000\n",
            "0.990   4.000\n",
            "Name: no_of_exchanges, dtype: float64\n"
          ],
          "name": "stdout"
        }
      ]
    },
    {
      "cell_type": "code",
      "metadata": {
        "colab": {
          "base_uri": "https://localhost:8080/",
          "height": 279
        },
        "id": "Y-zSMkLUo9I7",
        "outputId": "7d8ddaaa-e672-4f99-f542-4c62d9bedacd"
      },
      "source": [
        "popularity_threshold = 2\r\n",
        "rating_popular_book = rating_with_totalRatingCount.query('no_of_exchanges_x\t>= @popularity_threshold')\r\n",
        "rating_popular_book.head()"
      ],
      "execution_count": null,
      "outputs": [
        {
          "output_type": "execute_result",
          "data": {
            "text/html": [
              "<div>\n",
              "<style scoped>\n",
              "    .dataframe tbody tr th:only-of-type {\n",
              "        vertical-align: middle;\n",
              "    }\n",
              "\n",
              "    .dataframe tbody tr th {\n",
              "        vertical-align: top;\n",
              "    }\n",
              "\n",
              "    .dataframe thead th {\n",
              "        text-align: right;\n",
              "    }\n",
              "</style>\n",
              "<table border=\"1\" class=\"dataframe\">\n",
              "  <thead>\n",
              "    <tr style=\"text-align: right;\">\n",
              "      <th></th>\n",
              "      <th>user_id</th>\n",
              "      <th>title</th>\n",
              "      <th>author</th>\n",
              "      <th>publisher</th>\n",
              "      <th>isbn</th>\n",
              "      <th>language</th>\n",
              "      <th>no_of_exchanges_x</th>\n",
              "      <th>rating</th>\n",
              "      <th>no_of_exchanges_y</th>\n",
              "    </tr>\n",
              "  </thead>\n",
              "  <tbody>\n",
              "    <tr>\n",
              "      <th>0</th>\n",
              "      <td>Z4gCnjTUahoz2qaZmk9GJt</td>\n",
              "      <td>Basics of the U.S. Health Care System: Edition 2</td>\n",
              "      <td>Nancy J. Niles</td>\n",
              "      <td>Jones &amp; Bartlett Learning</td>\n",
              "      <td>9781284066043.000</td>\n",
              "      <td>English</td>\n",
              "      <td>3</td>\n",
              "      <td>2.300</td>\n",
              "      <td>1</td>\n",
              "    </tr>\n",
              "    <tr>\n",
              "      <th>1</th>\n",
              "      <td>PwS6wrs4jTJTRrENQ4ErfH</td>\n",
              "      <td>Financial Accounting Theory</td>\n",
              "      <td>Craig Deegan</td>\n",
              "      <td>McGraw-Hill Education Australia</td>\n",
              "      <td>9781743074626.000</td>\n",
              "      <td>English</td>\n",
              "      <td>7</td>\n",
              "      <td>4.700</td>\n",
              "      <td>1</td>\n",
              "    </tr>\n",
              "    <tr>\n",
              "      <th>2</th>\n",
              "      <td>JysYJh9MJsgB92MH86syxU</td>\n",
              "      <td>Delivering Health Care in America: A Systems A...</td>\n",
              "      <td>Leiyu Shi</td>\n",
              "      <td>Jones &amp; Bartlett Learning</td>\n",
              "      <td>9781284066067.000</td>\n",
              "      <td>English</td>\n",
              "      <td>7</td>\n",
              "      <td>1.500</td>\n",
              "      <td>1</td>\n",
              "    </tr>\n",
              "    <tr>\n",
              "      <th>4</th>\n",
              "      <td>JGUfL4yHZzQhKSLPcMbc3e</td>\n",
              "      <td>Financial Institutions| Instruments and Market...</td>\n",
              "      <td>Christopher Viney</td>\n",
              "      <td>McGraw-Hill Education Australia</td>\n",
              "      <td>9781743764848.000</td>\n",
              "      <td>English</td>\n",
              "      <td>3</td>\n",
              "      <td>1.700</td>\n",
              "      <td>1</td>\n",
              "    </tr>\n",
              "    <tr>\n",
              "      <th>5</th>\n",
              "      <td>96GBUfNMdCkarJrvJG8fmp</td>\n",
              "      <td>The New Trading for a Living: Psychology| Disc...</td>\n",
              "      <td>Alexander Elder</td>\n",
              "      <td>John Wiley &amp; Sons</td>\n",
              "      <td>9781118963678.000</td>\n",
              "      <td>English</td>\n",
              "      <td>2</td>\n",
              "      <td>4.700</td>\n",
              "      <td>1</td>\n",
              "    </tr>\n",
              "  </tbody>\n",
              "</table>\n",
              "</div>"
            ],
            "text/plain": [
              "                  user_id  ... no_of_exchanges_y\n",
              "0  Z4gCnjTUahoz2qaZmk9GJt  ...                 1\n",
              "1  PwS6wrs4jTJTRrENQ4ErfH  ...                 1\n",
              "2  JysYJh9MJsgB92MH86syxU  ...                 1\n",
              "4  JGUfL4yHZzQhKSLPcMbc3e  ...                 1\n",
              "5  96GBUfNMdCkarJrvJG8fmp  ...                 1\n",
              "\n",
              "[5 rows x 9 columns]"
            ]
          },
          "metadata": {
            "tags": []
          },
          "execution_count": 30
        }
      ]
    },
    {
      "cell_type": "code",
      "metadata": {
        "colab": {
          "base_uri": "https://localhost:8080/"
        },
        "id": "lZABZK80ujwm",
        "outputId": "4b92f7b0-c91b-4435-8ff9-7819ee0e7549"
      },
      "source": [
        "rating_popular_book.shape"
      ],
      "execution_count": null,
      "outputs": [
        {
          "output_type": "execute_result",
          "data": {
            "text/plain": [
              "(1686, 9)"
            ]
          },
          "metadata": {
            "tags": []
          },
          "execution_count": 31
        }
      ]
    },
    {
      "cell_type": "code",
      "metadata": {
        "colab": {
          "base_uri": "https://localhost:8080/"
        },
        "id": "Ajpy8joDxSKf",
        "outputId": "a6a6afe4-15e6-4420-c555-828f23652a6f"
      },
      "source": [
        "book1.columns"
      ],
      "execution_count": null,
      "outputs": [
        {
          "output_type": "execute_result",
          "data": {
            "text/plain": [
              "Index(['user_id', 'title', 'author', 'publisher', 'isbn', 'language',\n",
              "       'no_of_exchanges', 'rating'],\n",
              "      dtype='object')"
            ]
          },
          "metadata": {
            "tags": []
          },
          "execution_count": 38
        }
      ]
    },
    {
      "cell_type": "markdown",
      "metadata": {
        "id": "ConwUrWgxXT4"
      },
      "source": [
        "# Implementing KNN"
      ]
    },
    {
      "cell_type": "code",
      "metadata": {
        "colab": {
          "base_uri": "https://localhost:8080/"
        },
        "id": "9LlBCUbaxZ5y",
        "outputId": "3b72a426-b5e5-47e1-95d2-8217b333a84c"
      },
      "source": [
        "from scipy.sparse import csr_matrix\r\n",
        "book_rating_pivot = book1.pivot(index = 'isbn', columns = 'user_id', values = 'no_of_exchanges').fillna(0)\r\n",
        "book_rating_matrix = csr_matrix(book_rating_pivot.values)\r\n",
        "\r\n",
        "from sklearn.neighbors import NearestNeighbors\r\n",
        "\r\n",
        "\r\n",
        "model_knn = NearestNeighbors(metric = 'cosine', algorithm = 'brute')\r\n",
        "model_knn.fit(book_rating_matrix)"
      ],
      "execution_count": null,
      "outputs": [
        {
          "output_type": "execute_result",
          "data": {
            "text/plain": [
              "NearestNeighbors(algorithm='brute', leaf_size=30, metric='cosine',\n",
              "                 metric_params=None, n_jobs=None, n_neighbors=5, p=2,\n",
              "                 radius=1.0)"
            ]
          },
          "metadata": {
            "tags": []
          },
          "execution_count": 39
        }
      ]
    },
    {
      "cell_type": "code",
      "metadata": {
        "colab": {
          "base_uri": "https://localhost:8080/"
        },
        "id": "p_mb6TR6zAri",
        "outputId": "c7eda718-abc3-4d4d-bef3-4b8804c27d30"
      },
      "source": [
        "query_index = np.random.choice(book_rating_pivot.shape[0])\r\n",
        "print(query_index)\r\n",
        "distances, indices = model_knn.kneighbors(book_rating_pivot.iloc[query_index,:].values.reshape(1, -1), n_neighbors = 6)"
      ],
      "execution_count": null,
      "outputs": [
        {
          "output_type": "stream",
          "text": [
            "1216\n"
          ],
          "name": "stdout"
        }
      ]
    },
    {
      "cell_type": "code",
      "metadata": {
        "colab": {
          "base_uri": "https://localhost:8080/"
        },
        "id": "s01DYNGjzAkO",
        "outputId": "8017a53a-ab5c-4b55-95c0-0dde169d79f1"
      },
      "source": [
        "book_rating_pivot.index[query_index]"
      ],
      "execution_count": null,
      "outputs": [
        {
          "output_type": "execute_result",
          "data": {
            "text/plain": [
              "9781617508691.0"
            ]
          },
          "metadata": {
            "tags": []
          },
          "execution_count": 42
        }
      ]
    },
    {
      "cell_type": "code",
      "metadata": {
        "colab": {
          "base_uri": "https://localhost:8080/"
        },
        "id": "EBkkLsr7zAc5",
        "outputId": "16fa2d44-43ee-4bf2-feae-6c1212dd93cb"
      },
      "source": [
        "for i in range(0, len(distances.flatten())):\r\n",
        "    if i == 0:\r\n",
        "        print('Recommendations for {0}:\\n'.format(book_rating_pivot.index[query_index]))\r\n",
        "    else:\r\n",
        "        print('{0}: {1}, with distance of {2}:'.format(i, book_rating_pivot.index[indices.flatten()[i]], distances.flatten()[i]))"
      ],
      "execution_count": null,
      "outputs": [
        {
          "output_type": "stream",
          "text": [
            "Recommendations for 9781617508691.0:\n",
            "\n",
            "1: 9781473542419.0, with distance of 1.0:\n",
            "2: 9781473542211.0, with distance of 1.0:\n",
            "3: 9781473542303.0, with distance of 1.0:\n",
            "4: 9781473542310.0, with distance of 1.0:\n",
            "5: 9781473541542.0, with distance of 1.0:\n"
          ],
          "name": "stdout"
        }
      ]
    },
    {
      "cell_type": "code",
      "metadata": {
        "id": "l9j-9E0HygnK"
      },
      "source": [
        ""
      ],
      "execution_count": null,
      "outputs": []
    },
    {
      "cell_type": "markdown",
      "metadata": {
        "id": "AALNG2ahzxRq"
      },
      "source": [
        "## Title as index"
      ]
    },
    {
      "cell_type": "code",
      "metadata": {
        "colab": {
          "base_uri": "https://localhost:8080/"
        },
        "id": "pzyC14PszzCP",
        "outputId": "9e1a8777-1746-412c-943b-21ff2a3c355e"
      },
      "source": [
        "from scipy.sparse import csr_matrix\r\n",
        "book1 = book1.drop_duplicates(['user_id', 'title'])\r\n",
        "book_rating_pivot = book1.pivot(index = 'title', columns = 'user_id', values = 'rating').fillna(0)\r\n",
        "book_rating_matrix = csr_matrix(book_rating_pivot.values)\r\n",
        "\r\n",
        "from sklearn.neighbors import NearestNeighbors\r\n",
        "\r\n",
        "\r\n",
        "model_knn = NearestNeighbors(metric = 'cosine', algorithm = 'brute',p=0.7)\r\n",
        "model_knn.fit(book_rating_matrix)"
      ],
      "execution_count": null,
      "outputs": [
        {
          "output_type": "execute_result",
          "data": {
            "text/plain": [
              "NearestNeighbors(algorithm='brute', leaf_size=30, metric='cosine',\n",
              "                 metric_params=None, n_jobs=None, n_neighbors=5, p=0.7,\n",
              "                 radius=1.0)"
            ]
          },
          "metadata": {
            "tags": []
          },
          "execution_count": 57
        }
      ]
    },
    {
      "cell_type": "code",
      "metadata": {
        "colab": {
          "base_uri": "https://localhost:8080/"
        },
        "id": "Z_PDTtCdz1s9",
        "outputId": "d8e36d6c-1115-4892-cd47-bcaf5716a4eb"
      },
      "source": [
        "query_index = np.random.choice(book_rating_pivot.shape[0])\r\n",
        "print(query_index)\r\n",
        "distances, indices = model_knn.kneighbors(book_rating_pivot.iloc[query_index,:].values.reshape(1, -1), n_neighbors = 6)"
      ],
      "execution_count": null,
      "outputs": [
        {
          "output_type": "stream",
          "text": [
            "1356\n"
          ],
          "name": "stdout"
        }
      ]
    },
    {
      "cell_type": "code",
      "metadata": {
        "colab": {
          "base_uri": "https://localhost:8080/",
          "height": 35
        },
        "id": "uTtuxoczz4pp",
        "outputId": "49aa5425-eecf-43fc-b797-67656a8015ae"
      },
      "source": [
        "book_rating_pivot.index[query_index]"
      ],
      "execution_count": null,
      "outputs": [
        {
          "output_type": "execute_result",
          "data": {
            "application/vnd.google.colaboratory.intrinsic+json": {
              "type": "string"
            },
            "text/plain": [
              "\"The Kiss Quotient: Goodread's Romance Book of the Year\""
            ]
          },
          "metadata": {
            "tags": []
          },
          "execution_count": 59
        }
      ]
    },
    {
      "cell_type": "code",
      "metadata": {
        "colab": {
          "base_uri": "https://localhost:8080/"
        },
        "id": "Fg82FmXiz7jK",
        "outputId": "bdcdf3a0-e674-40cc-8c98-d47cd861d7f8"
      },
      "source": [
        "for i in range(0, len(distances.flatten())):\r\n",
        "    if i == 0:\r\n",
        "        print('Recommendations for {0}:\\n'.format(book_rating_pivot.index[query_index]))\r\n",
        "    else:\r\n",
        "        print('{0}: {1}, with distance of {2}:'.format(i, book_rating_pivot.index[indices.flatten()[i]], distances.flatten()[i]))"
      ],
      "execution_count": null,
      "outputs": [
        {
          "output_type": "stream",
          "text": [
            "Recommendations for The Kiss Quotient: Goodread's Romance Book of the Year:\n",
            "\n",
            "1: The Art of War, with distance of 1.0:\n",
            "2: The Art of Company Valuation and Financial Statement Analysis: A Value Investor's Guide with Real-life Case Studies, with distance of 1.0:\n",
            "3: The Art of Racing in the Rain: A Novel, with distance of 1.0:\n",
            "4: The Assistant, with distance of 1.0:\n",
            "5: The Art of Writing About Art: Edition 2, with distance of 1.0:\n"
          ],
          "name": "stdout"
        }
      ]
    },
    {
      "cell_type": "code",
      "metadata": {
        "id": "WHXVJ39wz-A7"
      },
      "source": [
        ""
      ],
      "execution_count": null,
      "outputs": []
    }
  ]
}