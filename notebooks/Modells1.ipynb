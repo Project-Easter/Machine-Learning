{
  "nbformat": 4,
  "nbformat_minor": 0,
  "metadata": {
    "colab": {
      "name": "Modells1.ipynb",
      "provenance": [],
      "collapsed_sections": []
    },
    "kernelspec": {
      "name": "python3",
      "display_name": "Python 3"
    }
  },
  "cells": [
    {
      "cell_type": "code",
      "metadata": {
        "id": "9-zctIs8Mm_U"
      },
      "source": [
        "import numpy as np\r\n",
        "import pandas as pd\r\n",
        "import os\r\n",
        "import glob"
      ],
      "execution_count": 1,
      "outputs": []
    },
    {
      "cell_type": "code",
      "metadata": {
        "id": "6huRGVsYIiPD"
      },
      "source": [
        "from nltk.corpus import stopwords\r\n",
        "from sklearn.metrics.pairwise import linear_kernel\r\n",
        "from sklearn.metrics.pairwise import cosine_similarity\r\n",
        "from sklearn.feature_extraction.text import CountVectorizer\r\n",
        "from sklearn.feature_extraction.text import TfidfVectorizer\r\n",
        "from nltk.tokenize import RegexpTokenizer\r\n",
        "import re\r\n",
        "import string\r\n",
        "import random\r\n",
        "from PIL import Image\r\n",
        "import requests\r\n",
        "from io import BytesIO\r\n",
        "import matplotlib.pyplot as plt\r\n",
        "%matplotlib inline"
      ],
      "execution_count": 2,
      "outputs": []
    },
    {
      "cell_type": "code",
      "metadata": {
        "id": "aWebt-kljMe2"
      },
      "source": [
        "os.chdir('/content/drive/MyDrive/book model datas/practice projects/play_books_data')"
      ],
      "execution_count": 3,
      "outputs": []
    },
    {
      "cell_type": "code",
      "metadata": {
        "id": "LpE-zDqaRbir"
      },
      "source": [
        "df=pd.read_csv('combined_csv.csv')"
      ],
      "execution_count": 4,
      "outputs": []
    },
    {
      "cell_type": "code",
      "metadata": {
        "colab": {
          "base_uri": "https://localhost:8080/"
        },
        "id": "KrG2F-7lI2GZ",
        "outputId": "9df34a55-bc27-4f2c-e5e0-df2e89207f42"
      },
      "source": [
        "\r\n",
        "df.columns"
      ],
      "execution_count": 5,
      "outputs": [
        {
          "output_type": "execute_result",
          "data": {
            "text/plain": [
              "Index(['title', ' author', ' publisher', ' date_published', ' ratings',\n",
              "       ' pages', ' isbn', ' language', ' genres'],\n",
              "      dtype='object')"
            ]
          },
          "metadata": {
            "tags": []
          },
          "execution_count": 5
        }
      ]
    },
    {
      "cell_type": "code",
      "metadata": {
        "id": "3upXSXU6Jnpf"
      },
      "source": [
        "df=df.rename(columns={' title':\"title\", ' author':'author', ' publisher':'publisher', ' date_published':'date_published', ' ratings':'ratings',\r\n",
        "       ' pages':'pages', ' isbn':'isbn', ' language':'language', ' genres':\"genre\"})"
      ],
      "execution_count": 6,
      "outputs": []
    },
    {
      "cell_type": "code",
      "metadata": {
        "colab": {
          "base_uri": "https://localhost:8080/",
          "height": 406
        },
        "id": "XNRofb1eLf1B",
        "outputId": "703452b9-04cf-497d-9ef5-b8e7e4a7eae0"
      },
      "source": [
        "df"
      ],
      "execution_count": 7,
      "outputs": [
        {
          "output_type": "execute_result",
          "data": {
            "text/html": [
              "<div>\n",
              "<style scoped>\n",
              "    .dataframe tbody tr th:only-of-type {\n",
              "        vertical-align: middle;\n",
              "    }\n",
              "\n",
              "    .dataframe tbody tr th {\n",
              "        vertical-align: top;\n",
              "    }\n",
              "\n",
              "    .dataframe thead th {\n",
              "        text-align: right;\n",
              "    }\n",
              "</style>\n",
              "<table border=\"1\" class=\"dataframe\">\n",
              "  <thead>\n",
              "    <tr style=\"text-align: right;\">\n",
              "      <th></th>\n",
              "      <th>title</th>\n",
              "      <th>author</th>\n",
              "      <th>publisher</th>\n",
              "      <th>date_published</th>\n",
              "      <th>ratings</th>\n",
              "      <th>pages</th>\n",
              "      <th>isbn</th>\n",
              "      <th>language</th>\n",
              "      <th>genre</th>\n",
              "    </tr>\n",
              "  </thead>\n",
              "  <tbody>\n",
              "    <tr>\n",
              "      <th>0</th>\n",
              "      <td>Reading Price Charts Bar by Bar</td>\n",
              "      <td>Al Brooks</td>\n",
              "      <td>John Wiley &amp; Sons</td>\n",
              "      <td>Mar 23| 2009</td>\n",
              "      <td>4.3</td>\n",
              "      <td>432</td>\n",
              "      <td>9780470464274</td>\n",
              "      <td>English</td>\n",
              "      <td>Business &amp; Economics / General</td>\n",
              "    </tr>\n",
              "    <tr>\n",
              "      <th>1</th>\n",
              "      <td>Services Marketing</td>\n",
              "      <td>Christopher Lovelock</td>\n",
              "      <td>Pearson Australia</td>\n",
              "      <td>May 20| 2015</td>\n",
              "      <td>4.1</td>\n",
              "      <td>529</td>\n",
              "      <td>9781486004768</td>\n",
              "      <td>English</td>\n",
              "      <td>Business &amp; Economics / Marketing / General</td>\n",
              "    </tr>\n",
              "    <tr>\n",
              "      <th>2</th>\n",
              "      <td>Pride &amp; Ownership: A Firefighter's Love of the...</td>\n",
              "      <td>Rick Lasky</td>\n",
              "      <td>PennWell Books</td>\n",
              "      <td>2006</td>\n",
              "      <td>4.5</td>\n",
              "      <td>302</td>\n",
              "      <td>9781593700782</td>\n",
              "      <td>English</td>\n",
              "      <td>Business &amp; Economics / Leadership</td>\n",
              "    </tr>\n",
              "    <tr>\n",
              "      <th>3</th>\n",
              "      <td>Social Media Marketing: Edition 3</td>\n",
              "      <td>Tracy L. Tuten</td>\n",
              "      <td>SAGE</td>\n",
              "      <td>Nov 20| 2017</td>\n",
              "      <td>4.7</td>\n",
              "      <td>448</td>\n",
              "      <td>9781526424549</td>\n",
              "      <td>English</td>\n",
              "      <td>Business &amp; Economics / E-Commerce / Internet M...</td>\n",
              "    </tr>\n",
              "    <tr>\n",
              "      <th>4</th>\n",
              "      <td>Forex Patterns and Probabilities</td>\n",
              "      <td>Ed Ponsi</td>\n",
              "      <td>John Wiley &amp; Sons</td>\n",
              "      <td>Dec 29| 2010</td>\n",
              "      <td>4.7</td>\n",
              "      <td>272</td>\n",
              "      <td>9781118044926</td>\n",
              "      <td>English</td>\n",
              "      <td>Business &amp; Economics / Foreign Exchange</td>\n",
              "    </tr>\n",
              "    <tr>\n",
              "      <th>...</th>\n",
              "      <td>...</td>\n",
              "      <td>...</td>\n",
              "      <td>...</td>\n",
              "      <td>...</td>\n",
              "      <td>...</td>\n",
              "      <td>...</td>\n",
              "      <td>...</td>\n",
              "      <td>...</td>\n",
              "      <td>...</td>\n",
              "    </tr>\n",
              "    <tr>\n",
              "      <th>7925</th>\n",
              "      <td>Handbook of Educational Psychology: Edition 3</td>\n",
              "      <td>Lyn Corno</td>\n",
              "      <td>Routledge</td>\n",
              "      <td>Jul 6| 2015</td>\n",
              "      <td>0.0</td>\n",
              "      <td>482</td>\n",
              "      <td>9781317420552</td>\n",
              "      <td>English</td>\n",
              "      <td>Education / Educational Psychology</td>\n",
              "    </tr>\n",
              "    <tr>\n",
              "      <th>7926</th>\n",
              "      <td>PSYCH 5| Introductory Psychology| 5th Edition:...</td>\n",
              "      <td>Spencer A. Rathus</td>\n",
              "      <td>Cengage Learning</td>\n",
              "      <td>Dec 5| 2016</td>\n",
              "      <td>5.0</td>\n",
              "      <td>448</td>\n",
              "      <td>9781305888296</td>\n",
              "      <td>English</td>\n",
              "      <td>Education / Teaching Methods &amp; Materials / Gen...</td>\n",
              "    </tr>\n",
              "    <tr>\n",
              "      <th>7927</th>\n",
              "      <td>Positive Psychology at Work: How Positive Lead...</td>\n",
              "      <td>Sarah Lewis</td>\n",
              "      <td>John Wiley &amp; Sons</td>\n",
              "      <td>Mar 16| 2011</td>\n",
              "      <td>0.0</td>\n",
              "      <td>272</td>\n",
              "      <td>9781119996217</td>\n",
              "      <td>English</td>\n",
              "      <td>Business &amp; Economics / Leadership</td>\n",
              "    </tr>\n",
              "    <tr>\n",
              "      <th>7928</th>\n",
              "      <td>History and Systems of Psychology: Edition 7</td>\n",
              "      <td>James F. Brennan</td>\n",
              "      <td>Cambridge University Press</td>\n",
              "      <td>Oct 26| 2017</td>\n",
              "      <td>0.0</td>\n",
              "      <td>469</td>\n",
              "      <td>9781316834206</td>\n",
              "      <td>English</td>\n",
              "      <td>Education / Teaching Methods &amp; Materials / Gen...</td>\n",
              "    </tr>\n",
              "    <tr>\n",
              "      <th>7929</th>\n",
              "      <td>Performance Psychology E-Book: A Practitioner'...</td>\n",
              "      <td>David John Collins</td>\n",
              "      <td>Elsevier Health Sciences</td>\n",
              "      <td>Jan 25| 2011</td>\n",
              "      <td>0.0</td>\n",
              "      <td>432</td>\n",
              "      <td>9780702048753</td>\n",
              "      <td>English</td>\n",
              "      <td>Medical / Allied Health Services / Physical Th...</td>\n",
              "    </tr>\n",
              "  </tbody>\n",
              "</table>\n",
              "<p>7930 rows × 9 columns</p>\n",
              "</div>"
            ],
            "text/plain": [
              "                                                  title  ...                                              genre\n",
              "0                       Reading Price Charts Bar by Bar  ...                     Business & Economics / General\n",
              "1                                    Services Marketing  ...         Business & Economics / Marketing / General\n",
              "2     Pride & Ownership: A Firefighter's Love of the...  ...                  Business & Economics / Leadership\n",
              "3                     Social Media Marketing: Edition 3  ...  Business & Economics / E-Commerce / Internet M...\n",
              "4                      Forex Patterns and Probabilities  ...            Business & Economics / Foreign Exchange\n",
              "...                                                 ...  ...                                                ...\n",
              "7925      Handbook of Educational Psychology: Edition 3  ...                 Education / Educational Psychology\n",
              "7926  PSYCH 5| Introductory Psychology| 5th Edition:...  ...  Education / Teaching Methods & Materials / Gen...\n",
              "7927  Positive Psychology at Work: How Positive Lead...  ...                  Business & Economics / Leadership\n",
              "7928       History and Systems of Psychology: Edition 7  ...  Education / Teaching Methods & Materials / Gen...\n",
              "7929  Performance Psychology E-Book: A Practitioner'...  ...  Medical / Allied Health Services / Physical Th...\n",
              "\n",
              "[7930 rows x 9 columns]"
            ]
          },
          "metadata": {
            "tags": []
          },
          "execution_count": 7
        }
      ]
    },
    {
      "cell_type": "code",
      "metadata": {
        "id": "VD4RX4q1aq_F"
      },
      "source": [
        "# df.reset_index(drop=True, inplace=True)"
      ],
      "execution_count": 8,
      "outputs": []
    },
    {
      "cell_type": "code",
      "metadata": {
        "colab": {
          "base_uri": "https://localhost:8080/",
          "height": 34
        },
        "id": "GWnQYvSlawc9",
        "outputId": "0704b965-5929-425e-d5c3-2e616a3a3bf0"
      },
      "source": [
        "df['title'][2464]"
      ],
      "execution_count": 9,
      "outputs": [
        {
          "output_type": "execute_result",
          "data": {
            "application/vnd.google.colaboratory.intrinsic+json": {
              "type": "string"
            },
            "text/plain": [
              "'The Goldfinch'"
            ]
          },
          "metadata": {
            "tags": []
          },
          "execution_count": 9
        }
      ]
    },
    {
      "cell_type": "code",
      "metadata": {
        "id": "JOY4GUuMba9D"
      },
      "source": [
        "df=df.drop(['publisher', 'date_published',\r\n",
        "       'pages', 'isbn', 'language'],axis=1)"
      ],
      "execution_count": 10,
      "outputs": []
    },
    {
      "cell_type": "code",
      "metadata": {
        "colab": {
          "base_uri": "https://localhost:8080/"
        },
        "id": "QI6bx-_kfQZn",
        "outputId": "ef1acf7a-f22d-41f4-a75e-d08a6dc32e90"
      },
      "source": [
        "df.columns"
      ],
      "execution_count": 11,
      "outputs": [
        {
          "output_type": "execute_result",
          "data": {
            "text/plain": [
              "Index(['title', 'author', 'ratings', 'genre'], dtype='object')"
            ]
          },
          "metadata": {
            "tags": []
          },
          "execution_count": 11
        }
      ]
    },
    {
      "cell_type": "code",
      "metadata": {
        "colab": {
          "base_uri": "https://localhost:8080/"
        },
        "id": "SeOvxTHLml-z",
        "outputId": "1c321013-e095-4259-f6e8-9d0869489e7b"
      },
      "source": [
        "df['author'].nunique()"
      ],
      "execution_count": 12,
      "outputs": [
        {
          "output_type": "execute_result",
          "data": {
            "text/plain": [
              "1192"
            ]
          },
          "metadata": {
            "tags": []
          },
          "execution_count": 12
        }
      ]
    },
    {
      "cell_type": "code",
      "metadata": {
        "id": "TuW-YtPQpRRJ"
      },
      "source": [
        "df['genre']=df['genre'].astype('str')"
      ],
      "execution_count": 13,
      "outputs": []
    },
    {
      "cell_type": "code",
      "metadata": {
        "colab": {
          "base_uri": "https://localhost:8080/"
        },
        "id": "q0xM2CqgofSB",
        "outputId": "96199a1f-4fb3-456b-a246-15c7e62200d1"
      },
      "source": [
        "for i in range(len(df['genre'])):\r\n",
        "  df['genre'].loc[i]=df['genre'].loc[i].split('/')"
      ],
      "execution_count": 14,
      "outputs": [
        {
          "output_type": "stream",
          "text": [
            "/usr/local/lib/python3.6/dist-packages/pandas/core/indexing.py:670: SettingWithCopyWarning: \n",
            "A value is trying to be set on a copy of a slice from a DataFrame\n",
            "\n",
            "See the caveats in the documentation: https://pandas.pydata.org/pandas-docs/stable/user_guide/indexing.html#returning-a-view-versus-a-copy\n",
            "  iloc._setitem_with_indexer(indexer, value)\n"
          ],
          "name": "stderr"
        }
      ]
    },
    {
      "cell_type": "code",
      "metadata": {
        "colab": {
          "base_uri": "https://localhost:8080/"
        },
        "id": "WOlyFxoEm0rr",
        "outputId": "97a3ea5d-ceea-495a-f571-880564240dfe"
      },
      "source": [
        "df['genre']"
      ],
      "execution_count": 15,
      "outputs": [
        {
          "output_type": "execute_result",
          "data": {
            "text/plain": [
              "0                       [Business & Economics ,  General]\n",
              "1          [Business & Economics ,  Marketing ,  General]\n",
              "2                    [Business & Economics ,  Leadership]\n",
              "3       [Business & Economics ,  E-Commerce ,  Interne...\n",
              "4              [Business & Economics ,  Foreign Exchange]\n",
              "                              ...                        \n",
              "7925                [Education ,  Educational Psychology]\n",
              "7926    [Education ,  Teaching Methods & Materials ,  ...\n",
              "7927                 [Business & Economics ,  Leadership]\n",
              "7928    [Education ,  Teaching Methods & Materials ,  ...\n",
              "7929    [Medical ,  Allied Health Services ,  Physical...\n",
              "Name: genre, Length: 7930, dtype: object"
            ]
          },
          "metadata": {
            "tags": []
          },
          "execution_count": 15
        }
      ]
    },
    {
      "cell_type": "code",
      "metadata": {
        "id": "_YAV08svm0o9"
      },
      "source": [
        "df=df.drop_duplicates(subset=['title'])"
      ],
      "execution_count": 16,
      "outputs": []
    },
    {
      "cell_type": "code",
      "metadata": {
        "colab": {
          "base_uri": "https://localhost:8080/",
          "height": 172
        },
        "id": "K8beiID61OUG",
        "outputId": "c7962cc7-51d2-4fbe-8644-870f0d21aaa0"
      },
      "source": [
        "df[df['author']=='Al Brooks']"
      ],
      "execution_count": 17,
      "outputs": [
        {
          "output_type": "execute_result",
          "data": {
            "text/html": [
              "<div>\n",
              "<style scoped>\n",
              "    .dataframe tbody tr th:only-of-type {\n",
              "        vertical-align: middle;\n",
              "    }\n",
              "\n",
              "    .dataframe tbody tr th {\n",
              "        vertical-align: top;\n",
              "    }\n",
              "\n",
              "    .dataframe thead th {\n",
              "        text-align: right;\n",
              "    }\n",
              "</style>\n",
              "<table border=\"1\" class=\"dataframe\">\n",
              "  <thead>\n",
              "    <tr style=\"text-align: right;\">\n",
              "      <th></th>\n",
              "      <th>title</th>\n",
              "      <th>author</th>\n",
              "      <th>ratings</th>\n",
              "      <th>genre</th>\n",
              "    </tr>\n",
              "  </thead>\n",
              "  <tbody>\n",
              "    <tr>\n",
              "      <th>0</th>\n",
              "      <td>Reading Price Charts Bar by Bar</td>\n",
              "      <td>Al Brooks</td>\n",
              "      <td>4.3</td>\n",
              "      <td>[Business &amp; Economics ,  General]</td>\n",
              "    </tr>\n",
              "    <tr>\n",
              "      <th>26</th>\n",
              "      <td>Trading Price Action Trends</td>\n",
              "      <td>Al Brooks</td>\n",
              "      <td>4.5</td>\n",
              "      <td>[Business &amp; Economics ,  E-Commerce ,  Online ...</td>\n",
              "    </tr>\n",
              "    <tr>\n",
              "      <th>28</th>\n",
              "      <td>Trading Price Action Reversals</td>\n",
              "      <td>Al Brooks</td>\n",
              "      <td>4.1</td>\n",
              "      <td>[Business &amp; Economics ,  General]</td>\n",
              "    </tr>\n",
              "    <tr>\n",
              "      <th>29</th>\n",
              "      <td>Trading Price Action Trading Ranges</td>\n",
              "      <td>Al Brooks</td>\n",
              "      <td>4.8</td>\n",
              "      <td>[Business &amp; Economics ,  General]</td>\n",
              "    </tr>\n",
              "  </tbody>\n",
              "</table>\n",
              "</div>"
            ],
            "text/plain": [
              "                                  title  ...                                              genre\n",
              "0       Reading Price Charts Bar by Bar  ...                  [Business & Economics ,  General]\n",
              "26          Trading Price Action Trends  ...  [Business & Economics ,  E-Commerce ,  Online ...\n",
              "28       Trading Price Action Reversals  ...                  [Business & Economics ,  General]\n",
              "29  Trading Price Action Trading Ranges  ...                  [Business & Economics ,  General]\n",
              "\n",
              "[4 rows x 4 columns]"
            ]
          },
          "metadata": {
            "tags": []
          },
          "execution_count": 17
        }
      ]
    },
    {
      "cell_type": "code",
      "metadata": {
        "id": "4D1YZ6ahm0mX"
      },
      "source": [
        "# Function for recommending books based on Book title. It takes book title and genre as an input.\r\n",
        "def recommend(title, author):\r\n",
        "    \r\n",
        "    # Matching the genre with the dataset and reset the index\r\n",
        "    data = df.loc[df['author'] == author]  \r\n",
        "    data.reset_index(level = 0, inplace = True) \r\n",
        "  \r\n",
        "    # Convert the index into series\r\n",
        "    indices = pd.Series(data.index, index = data['title'])\r\n",
        "    \r\n",
        "    #Converting the book title into vectors and used bigram\r\n",
        "    tf = TfidfVectorizer(analyzer='word', ngram_range=(2, 2), min_df = 1, stop_words='english')\r\n",
        "    tfidf_matrix = tf.fit_transform(data['title'])\r\n",
        "    \r\n",
        "    # Calculating the similarity measures based on Cosine Similarity\r\n",
        "    sg = cosine_similarity(tfidf_matrix, tfidf_matrix)\r\n",
        "    \r\n",
        "    # Get the index corresponding to original_title\r\n",
        "       \r\n",
        "    idx = indices[title]\r\n",
        "# Get the pairwsie similarity scores \r\n",
        "    sig = list(enumerate(sg[idx]))\r\n",
        "# Sort the books\r\n",
        "    sig = sorted(sig, key=lambda x: x[1], reverse=True)\r\n",
        "# Scores of the 5 most similar books \r\n",
        "    sig = sig[1:6]\r\n",
        "    return sig\r\n",
        "# Book indicies\r\n",
        "\r\n"
      ],
      "execution_count": 41,
      "outputs": []
    },
    {
      "cell_type": "code",
      "metadata": {
        "colab": {
          "base_uri": "https://localhost:8080/"
        },
        "id": "v0YjDg3cm0jR",
        "outputId": "5ca85eb5-a452-4bda-f2bc-5c68d05c695d"
      },
      "source": [
        "recommend(title='Trading Price Action Trading Ranges',author='Al Brooks')"
      ],
      "execution_count": 42,
      "outputs": [
        {
          "output_type": "execute_result",
          "data": {
            "text/plain": [
              "[(1, 0.3605120834049789), (2, 0.3605120834049789), (0, 0.0)]"
            ]
          },
          "metadata": {
            "tags": []
          },
          "execution_count": 42
        }
      ]
    },
    {
      "cell_type": "code",
      "metadata": {
        "id": "QO9YFwgFrsvn"
      },
      "source": [
        "def get_recommendations(title,author):\r\n",
        "  \"\"\"\r\n",
        "  \r\n",
        "  \"\"\"\r\n",
        "  # matching genre with the dataset and reset the index\r\n",
        "  book_data = df.loc[df['author'] ==author]\r\n",
        "  book_data.reset_index(level = 0, inplace = True)\r\n",
        "\r\n",
        "  # getting recommendations\r\n",
        "  recoms = recommend(title,author)\r\n",
        "\r\n",
        "  # getiing indexes of book recommendatios\r\n",
        "  book_indices = [i[0] for i in recoms]\r\n",
        "\r\n",
        "  # making a list of recommendations\r\n",
        "  recommendations = []\r\n",
        "  for i in book_indices:\r\n",
        "    recommendations.append(book_data['title'].loc[i])\r\n",
        "  return recommendations"
      ],
      "execution_count": 43,
      "outputs": []
    },
    {
      "cell_type": "code",
      "metadata": {
        "colab": {
          "base_uri": "https://localhost:8080/"
        },
        "id": "H6duZN6SrstA",
        "outputId": "0def73aa-c6ea-4402-da9c-b0ce2510e038"
      },
      "source": [
        "get_recommendations(title='Trading Price Action Trading Ranges',author='Al Brooks')"
      ],
      "execution_count": 44,
      "outputs": [
        {
          "output_type": "execute_result",
          "data": {
            "text/plain": [
              "['Trading Price Action Trends',\n",
              " 'Trading Price Action Reversals',\n",
              " 'Reading Price Charts Bar by Bar']"
            ]
          },
          "metadata": {
            "tags": []
          },
          "execution_count": 44
        }
      ]
    },
    {
      "cell_type": "code",
      "metadata": {
        "id": "NVMto00Krsoz"
      },
      "source": [
        ""
      ],
      "execution_count": null,
      "outputs": []
    },
    {
      "cell_type": "code",
      "metadata": {
        "id": "QplCqXUmrsl5"
      },
      "source": [
        ""
      ],
      "execution_count": null,
      "outputs": []
    }
  ]
}