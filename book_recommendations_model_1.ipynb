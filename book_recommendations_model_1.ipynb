{
  "nbformat": 4,
  "nbformat_minor": 0,
  "metadata": {
    "colab": {
      "name": "book_recommendations_model_1.ipynb",
      "provenance": [],
      "collapsed_sections": [],
      "mount_file_id": "1Wh9_3h4LHSVRT2L6bciDDEWzD1YUT2wt",
      "authorship_tag": "ABX9TyM8o5Y0LQLCHb6jyoJkverp",
      "include_colab_link": true
    },
    "kernelspec": {
      "name": "python3",
      "display_name": "Python 3"
    }
  },
  "cells": [
    {
      "cell_type": "markdown",
      "metadata": {
        "id": "view-in-github",
        "colab_type": "text"
      },
      "source": [
        "<a href=\"https://colab.research.google.com/github/ankitoscar/Machine-Learning/blob/main/book_recommendations_model_1.ipynb\" target=\"_parent\"><img src=\"https://colab.research.google.com/assets/colab-badge.svg\" alt=\"Open In Colab\"/></a>"
      ]
    },
    {
      "cell_type": "markdown",
      "metadata": {
        "id": "Biom342gIPKT"
      },
      "source": [
        "# Book recommendations for model 1\r\n",
        "\r\n",
        "Model 1 deals with recommending books to users based on their favourite books, genres and authors. This notebook will involve 2 models, one which recommends based on favourite author and book, while the other recommends based on favourite genre and book."
      ]
    },
    {
      "cell_type": "code",
      "metadata": {
        "id": "hJR_TOs9Ko7y"
      },
      "source": [
        "# importing data csv file\r\n",
        "import pandas as pd\r\n",
        "df = pd.read_csv('/content/drive/MyDrive/book_recommendations/model1_data.csv')\r\n",
        "df = df.sample(frac=1)"
      ],
      "execution_count": 1,
      "outputs": []
    },
    {
      "cell_type": "code",
      "metadata": {
        "colab": {
          "base_uri": "https://localhost:8080/",
          "height": 204
        },
        "id": "qkCP6mdsK1rp",
        "outputId": "05fc6aef-e887-4c4d-d729-22d6bc0a9a81"
      },
      "source": [
        "df.head()"
      ],
      "execution_count": 2,
      "outputs": [
        {
          "output_type": "execute_result",
          "data": {
            "text/html": [
              "<div>\n",
              "<style scoped>\n",
              "    .dataframe tbody tr th:only-of-type {\n",
              "        vertical-align: middle;\n",
              "    }\n",
              "\n",
              "    .dataframe tbody tr th {\n",
              "        vertical-align: top;\n",
              "    }\n",
              "\n",
              "    .dataframe thead th {\n",
              "        text-align: right;\n",
              "    }\n",
              "</style>\n",
              "<table border=\"1\" class=\"dataframe\">\n",
              "  <thead>\n",
              "    <tr style=\"text-align: right;\">\n",
              "      <th></th>\n",
              "      <th>Unnamed: 0</th>\n",
              "      <th>Author</th>\n",
              "      <th>Genre</th>\n",
              "      <th>Title</th>\n",
              "    </tr>\n",
              "  </thead>\n",
              "  <tbody>\n",
              "    <tr>\n",
              "      <th>112</th>\n",
              "      <td>112</td>\n",
              "      <td>Katie  Mack</td>\n",
              "      <td>science technology</td>\n",
              "      <td>The End of Everything by Katie  Mack</td>\n",
              "    </tr>\n",
              "    <tr>\n",
              "      <th>42</th>\n",
              "      <td>42</td>\n",
              "      <td>R.F. Kuang</td>\n",
              "      <td>fanatasy</td>\n",
              "      <td>The Burning God by R.F. Kuang</td>\n",
              "    </tr>\n",
              "    <tr>\n",
              "      <th>85</th>\n",
              "      <td>85</td>\n",
              "      <td>Stuart Turton</td>\n",
              "      <td>mystery thriller</td>\n",
              "      <td>The Devil and the Dark Water by Stuart Turton</td>\n",
              "    </tr>\n",
              "    <tr>\n",
              "      <th>26</th>\n",
              "      <td>26</td>\n",
              "      <td>Bryant Terry</td>\n",
              "      <td>cook books</td>\n",
              "      <td>Vegetable Kingdom by Bryant Terry</td>\n",
              "    </tr>\n",
              "    <tr>\n",
              "      <th>114</th>\n",
              "      <td>114</td>\n",
              "      <td>Christiana Figueres</td>\n",
              "      <td>science technology</td>\n",
              "      <td>The Future We Choose by Christiana Figueres</td>\n",
              "    </tr>\n",
              "  </tbody>\n",
              "</table>\n",
              "</div>"
            ],
            "text/plain": [
              "     Unnamed: 0  ...                                          Title\n",
              "112         112  ...           The End of Everything by Katie  Mack\n",
              "42           42  ...                  The Burning God by R.F. Kuang\n",
              "85           85  ...  The Devil and the Dark Water by Stuart Turton\n",
              "26           26  ...              Vegetable Kingdom by Bryant Terry\n",
              "114         114  ...    The Future We Choose by Christiana Figueres\n",
              "\n",
              "[5 rows x 4 columns]"
            ]
          },
          "metadata": {
            "tags": []
          },
          "execution_count": 2
        }
      ]
    },
    {
      "cell_type": "code",
      "metadata": {
        "id": "hUQF4bjxK2yb"
      },
      "source": [
        "# Drop Unnamed:0 column as it is just a copy of indices\r\n",
        "df.drop('Unnamed: 0',axis=1, inplace=True)"
      ],
      "execution_count": 3,
      "outputs": []
    },
    {
      "cell_type": "code",
      "metadata": {
        "colab": {
          "base_uri": "https://localhost:8080/",
          "height": 204
        },
        "id": "7sBN6zU0LF2v",
        "outputId": "0a54a861-a9f8-40f4-dfee-bc286f977879"
      },
      "source": [
        "df.head()"
      ],
      "execution_count": 4,
      "outputs": [
        {
          "output_type": "execute_result",
          "data": {
            "text/html": [
              "<div>\n",
              "<style scoped>\n",
              "    .dataframe tbody tr th:only-of-type {\n",
              "        vertical-align: middle;\n",
              "    }\n",
              "\n",
              "    .dataframe tbody tr th {\n",
              "        vertical-align: top;\n",
              "    }\n",
              "\n",
              "    .dataframe thead th {\n",
              "        text-align: right;\n",
              "    }\n",
              "</style>\n",
              "<table border=\"1\" class=\"dataframe\">\n",
              "  <thead>\n",
              "    <tr style=\"text-align: right;\">\n",
              "      <th></th>\n",
              "      <th>Author</th>\n",
              "      <th>Genre</th>\n",
              "      <th>Title</th>\n",
              "    </tr>\n",
              "  </thead>\n",
              "  <tbody>\n",
              "    <tr>\n",
              "      <th>112</th>\n",
              "      <td>Katie  Mack</td>\n",
              "      <td>science technology</td>\n",
              "      <td>The End of Everything by Katie  Mack</td>\n",
              "    </tr>\n",
              "    <tr>\n",
              "      <th>42</th>\n",
              "      <td>R.F. Kuang</td>\n",
              "      <td>fanatasy</td>\n",
              "      <td>The Burning God by R.F. Kuang</td>\n",
              "    </tr>\n",
              "    <tr>\n",
              "      <th>85</th>\n",
              "      <td>Stuart Turton</td>\n",
              "      <td>mystery thriller</td>\n",
              "      <td>The Devil and the Dark Water by Stuart Turton</td>\n",
              "    </tr>\n",
              "    <tr>\n",
              "      <th>26</th>\n",
              "      <td>Bryant Terry</td>\n",
              "      <td>cook books</td>\n",
              "      <td>Vegetable Kingdom by Bryant Terry</td>\n",
              "    </tr>\n",
              "    <tr>\n",
              "      <th>114</th>\n",
              "      <td>Christiana Figueres</td>\n",
              "      <td>science technology</td>\n",
              "      <td>The Future We Choose by Christiana Figueres</td>\n",
              "    </tr>\n",
              "  </tbody>\n",
              "</table>\n",
              "</div>"
            ],
            "text/plain": [
              "                   Author  ...                                          Title\n",
              "112           Katie  Mack  ...           The End of Everything by Katie  Mack\n",
              "42             R.F. Kuang  ...                  The Burning God by R.F. Kuang\n",
              "85          Stuart Turton  ...  The Devil and the Dark Water by Stuart Turton\n",
              "26           Bryant Terry  ...              Vegetable Kingdom by Bryant Terry\n",
              "114   Christiana Figueres  ...    The Future We Choose by Christiana Figueres\n",
              "\n",
              "[5 rows x 3 columns]"
            ]
          },
          "metadata": {
            "tags": []
          },
          "execution_count": 4
        }
      ]
    },
    {
      "cell_type": "code",
      "metadata": {
        "colab": {
          "base_uri": "https://localhost:8080/"
        },
        "id": "lxw9Uz_CLGuU",
        "outputId": "f18aa8ea-c137-4399-9e81-32cc06eeb2b8"
      },
      "source": [
        "# null values in the dataframe\r\n",
        "df.isna().sum()"
      ],
      "execution_count": 5,
      "outputs": [
        {
          "output_type": "execute_result",
          "data": {
            "text/plain": [
              "Author    0\n",
              "Genre     1\n",
              "Title     0\n",
              "dtype: int64"
            ]
          },
          "metadata": {
            "tags": []
          },
          "execution_count": 5
        }
      ]
    },
    {
      "cell_type": "code",
      "metadata": {
        "colab": {
          "base_uri": "https://localhost:8080/"
        },
        "id": "gQY0osYgLr2j",
        "outputId": "aefa5bb1-b8f2-4cd9-83b8-4cfb03d5fd17"
      },
      "source": [
        "# shape of the dataframe\r\n",
        "df.shape"
      ],
      "execution_count": 6,
      "outputs": [
        {
          "output_type": "execute_result",
          "data": {
            "text/plain": [
              "(124, 3)"
            ]
          },
          "metadata": {
            "tags": []
          },
          "execution_count": 6
        }
      ]
    },
    {
      "cell_type": "code",
      "metadata": {
        "id": "niGZwQUiLvd0"
      },
      "source": [
        "# deleting null value rows\r\n",
        "df.dropna(inplace=True)"
      ],
      "execution_count": 7,
      "outputs": []
    },
    {
      "cell_type": "code",
      "metadata": {
        "colab": {
          "base_uri": "https://localhost:8080/"
        },
        "id": "C6eK9DL1L3lQ",
        "outputId": "1576bcd3-4134-4be2-b4eb-0b3f68b62db7"
      },
      "source": [
        "df.isna().sum()"
      ],
      "execution_count": 9,
      "outputs": [
        {
          "output_type": "execute_result",
          "data": {
            "text/plain": [
              "Author    0\n",
              "Genre     0\n",
              "Title     0\n",
              "dtype: int64"
            ]
          },
          "metadata": {
            "tags": []
          },
          "execution_count": 9
        }
      ]
    },
    {
      "cell_type": "code",
      "metadata": {
        "colab": {
          "base_uri": "https://localhost:8080/",
          "height": 515
        },
        "id": "TqxlSVWZL5ZL",
        "outputId": "47f16b59-09ac-4ce2-9c6b-789357db9d14"
      },
      "source": [
        "# distributions\r\n",
        "import matplotlib.pyplot as plt\r\n",
        "plt.figure(figsize=(7,7))\r\n",
        "df['Genre'].value_counts().plot.bar(color='dodgerblue')\r\n",
        "plt.show()"
      ],
      "execution_count": 10,
      "outputs": [
        {
          "output_type": "display_data",
          "data": {
            "image/png": "[encoded data removed]",
            "text/plain": [
              "<Figure size 504x504 with 1 Axes>"
            ]
          },
          "metadata": {
            "tags": [],
            "needs_background": "light"
          }
        }
      ]
    },
    {
      "cell_type": "markdown",
      "metadata": {
        "id": "ANa3SL-6MMnh"
      },
      "source": [
        "The data has fairly equal amount of books in all genres except in comical. Hence, our model should perform nicely in the dataset."
      ]
    },
    {
      "cell_type": "code",
      "metadata": {
        "colab": {
          "base_uri": "https://localhost:8080/"
        },
        "id": "uJoYRIxGMbhP",
        "outputId": "4ae4bf25-bcf1-4450-9d1c-1314630cca70"
      },
      "source": [
        "# unique authors\r\n",
        "df['Author'].unique()"
      ],
      "execution_count": 11,
      "outputs": [
        {
          "output_type": "execute_result",
          "data": {
            "text/plain": [
              "array([' Katie  Mack', ' R.F. Kuang', ' Stuart Turton', ' Bryant Terry',\n",
              "       ' Christiana Figueres', ' Heather B. Moore', ' Sarah J. Maas',\n",
              "       ' Jennifer Weiner', ' Chris Colfer', ' Megan Goldin',\n",
              "       ' Will Wight', ' Sara Pennypacker', ' Linden A. Lewis',\n",
              "       ' Natalie Zina Walschots', ' Liz Moore', ' Simone St. James',\n",
              "       ' Patrik Svensson', ' Alka Joshi', ' T.J. Klune', ' Diane  Cook',\n",
              "       ' Jim Butcher', ' Jeanine Cummins', ' Kimberly Brubaker Bradley',\n",
              "       ' Ann Napolitano', ' Sarah Andersen', ' Helen Macdonald',\n",
              "       ' Neil Shubin', ' Tarryn Fisher', ' Dzung Lewis', ' Gordon Ramsay',\n",
              "       ' Matt Haig', ' Victoria James', ' Suzanne Redfearn',\n",
              "       ' Simon Jimenez', ' Raven Leilani', ' Akwaeke Emezi',\n",
              "       ' Emily St. John Mandel', ' Bill Buford', ' Louise Penny',\n",
              "       ' Nghi Vo', ' Jessica  Townsend', ' Hank Green',\n",
              "       ' Michael Shellenberger', ' Katherine Applegate', ' Ricky Tims',\n",
              "       ' Ken Follett', ' Jonathan C. Slaght', ' Ree Drummond',\n",
              "       ' Martha Wells', ' M.R. Carey', ' Rick Riordan', ' Louise Erdrich',\n",
              "       ' Erin Entrada Kelly', ' Susanna Clarke', ' Cortney Burns',\n",
              "       ' Emma Donoghue', ' Mark  Lawrence', ' Shannon Messenger',\n",
              "       ' Rachel Howzell Hall', ' Tana French', ' Harlan Coben',\n",
              "       ' Andrea Stewart', ' Adam Rutherford', ' Lisa Unger',\n",
              "       ' John Scalzi', ' Megha Majumdar', ' Brandon  Taylor',\n",
              "       ' Tiffany   McDaniel', ' Ken Liu', ' Ina Garten', ' Joanna Gaines',\n",
              "       ' Janae Marks', ' Jacqueline Woodson', ' Lisa Wingate',\n",
              "       ' V.E. Schwab', ' James   McBride', ' Lawrence Wright',\n",
              "       ' Bonnie Tsui', ' Joe Abercrombie', ' Fredrik Backman',\n",
              "       ' David Chang', ' Alix E. Harrow', ' Mark Kenyon',\n",
              "       ' David Heska Wanbli Weiden', ' Brian Greene', ' Ayad Akhtar',\n",
              "       ' Brit Bennett', ' David Mitchell', ' Sarah Frier',\n",
              "       ' James Patterson', \" Maggie O'Farrell\", ' Isabel Allende',\n",
              "       ' Claire Saffitz', ' Your Bookshelf ', ' S.A. Chakraborty',\n",
              "       ' Theresa Carle-Sanders', ' Nic Stone', ' David Attenborough',\n",
              "       ' Claribel A. Ortega', ' Kate Elizabeth Russell', ' N.K. Jemisin',\n",
              "       ' Mena Massoud', ' Sue Monk Kidd', ' Yaa Gyasi',\n",
              "       ' Robert Galbraith', ' Angela Liddon', ' Sonia Shah',\n",
              "       ' James Nestor', ' Christopher Paolini', ' Roshani Chokshi',\n",
              "       ' Lindsay  Ellis', ' T.A. White', ' Kristin Cavallari',\n",
              "       ' Alice Oseman', ' Riley Sager', ' Jess Lourey', ' Natalie Jenner',\n",
              "       ' Lucy Foley', ' Tamsyn Muir', ' David  Wong', ' Patricia Briggs',\n",
              "       ' Lily King', ' Amy Harmon'], dtype=object)"
            ]
          },
          "metadata": {
            "tags": []
          },
          "execution_count": 11
        }
      ]
    },
    {
      "cell_type": "code",
      "metadata": {
        "colab": {
          "base_uri": "https://localhost:8080/"
        },
        "id": "R4ffwNiwMg7z",
        "outputId": "22749d75-0ad6-4328-cf34-79408b82e8b3"
      },
      "source": [
        "# number of unique authors\r\n",
        "len(df['Author'].unique())"
      ],
      "execution_count": 13,
      "outputs": [
        {
          "output_type": "execute_result",
          "data": {
            "text/plain": [
              "123"
            ]
          },
          "metadata": {
            "tags": []
          },
          "execution_count": 13
        }
      ]
    },
    {
      "cell_type": "markdown",
      "metadata": {
        "id": "Tjd2pmbTMqX0"
      },
      "source": [
        "Here we have almost all unique authors, this will have a drawback as it will not be able to recommend books by same author to the user as not more than one book by an author is availble in the dataset."
      ]
    },
    {
      "cell_type": "code",
      "metadata": {
        "id": "ZubA-HxqNAqU"
      },
      "source": [
        "# importing important libraries and functions\r\n",
        "import numpy as np\r\n",
        "from sklearn.metrics.pairwise import cosine_similarity\r\n",
        "from sklearn.feature_extraction.text import CountVectorizer, TfidfVectorizer"
      ],
      "execution_count": 15,
      "outputs": []
    },
    {
      "cell_type": "code",
      "metadata": {
        "id": "iiUYA2UHPizv"
      },
      "source": [
        "# function to recommend book using title and genre\r\n",
        "def recommend_using_genre(title, genre, data):\r\n",
        "  \"\"\"\r\n",
        "  Recommends books to user based on title and genre\r\n",
        "\r\n",
        "  Parameters\r\n",
        "  ---------\r\n",
        "  title : title of the book from which recommendations have to made\r\n",
        "  genre : genre of the book passed in title\r\n",
        "  data : dataset from which recommendations will be made\r\n",
        "\r\n",
        "  Return\r\n",
        "  --------\r\n",
        "  sig     : list of recommendations\r\n",
        "  \"\"\"\r\n",
        "  # matching genre with the dataset and reset the index\r\n",
        "  book_data = data.loc[data['Genre'] == genre]\r\n",
        "  book_data.reset_index(level = 0, inplace = True)\r\n",
        "\r\n",
        "  # convert index into series\r\n",
        "  indices = pd.Series(book_data.index, index = book_data['Title'])\r\n",
        "\r\n",
        "  # converting book title into vectors\r\n",
        "  tf = TfidfVectorizer(analyzer='word', ngram_range=(2,2), min_df=1,\r\n",
        "                       stop_words='english')\r\n",
        "  tfidf_mat = tf.fit_transform(book_data['Title'])\r\n",
        "\r\n",
        "  # calculating cosine similarity \r\n",
        "  sg = cosine_similarity(tfidf_mat, tfidf_mat)\r\n",
        "\r\n",
        "  # get index corresponding to original title\r\n",
        "  idx = indices[title]\r\n",
        "\r\n",
        "  # get pairwise similarity scores\r\n",
        "  sig = list(enumerate(sg[idx]))\r\n",
        "\r\n",
        "  # sort the books and keep the top 5 most similar books\r\n",
        "  sig = sorted(sig, key=lambda x : x[1], reverse= True)\r\n",
        "  sig = sig[1:6]\r\n",
        "\r\n",
        "  return sig"
      ],
      "execution_count": 54,
      "outputs": []
    },
    {
      "cell_type": "code",
      "metadata": {
        "colab": {
          "base_uri": "https://localhost:8080/"
        },
        "id": "IAP8rpuVTg8L",
        "outputId": "00e513be-ffad-4dec-e4a2-ec0058e7b45b"
      },
      "source": [
        "recommend_using_genre(title='The Burning God by R.F. Kuang',genre='fanatasy',data=df)"
      ],
      "execution_count": 55,
      "outputs": [
        {
          "output_type": "execute_result",
          "data": {
            "text/plain": [
              "[(1, 0.0), (2, 0.0), (3, 0.0), (4, 0.0), (5, 0.0)]"
            ]
          },
          "metadata": {
            "tags": []
          },
          "execution_count": 55
        }
      ]
    },
    {
      "cell_type": "code",
      "metadata": {
        "id": "8YKUkN-PYoQZ"
      },
      "source": [
        "# function to get a list of book title after recommendations\r\n",
        "def get_recommendations(title,genre,data):\r\n",
        "  \"\"\"\r\n",
        "  \r\n",
        "  \"\"\"\r\n",
        "  # matching genre with the dataset and reset the index\r\n",
        "  book_data = data.loc[data['Genre'] == genre]\r\n",
        "  book_data.reset_index(level = 0, inplace = True)\r\n",
        "\r\n",
        "  # getting recommendations\r\n",
        "  recoms = recommend_using_genre(title,genre,data)\r\n",
        "\r\n",
        "  # getiing indexes of book recommendatios\r\n",
        "  book_indices = [i[0] for i in recoms]\r\n",
        "\r\n",
        "  # making a list of recommendations\r\n",
        "  recommendations = []\r\n",
        "  for i in book_indices:\r\n",
        "    recommendations.append(book_data['Title'].loc[i])\r\n",
        "  return recommendations"
      ],
      "execution_count": 56,
      "outputs": []
    },
    {
      "cell_type": "code",
      "metadata": {
        "colab": {
          "base_uri": "https://localhost:8080/"
        },
        "id": "aCACs8iMfhIj",
        "outputId": "611e41df-6736-4831-923e-9fff31e78725"
      },
      "source": [
        "get_recommendations(title='The Burning God by R.F. Kuang',genre='fanatasy',data=df)"
      ],
      "execution_count": 57,
      "outputs": [
        {
          "output_type": "execute_result",
          "data": {
            "text/plain": [
              "['House of Earth and Blood by Sarah J. Maas',\n",
              " 'Wintersteel by Will Wight',\n",
              " 'The House in the Cerulean Sea by T.J. Klune',\n",
              " 'Peace Talks by Jim Butcher',\n",
              " 'The Empress of Salt and Fortune by Nghi Vo']"
            ]
          },
          "metadata": {
            "tags": []
          },
          "execution_count": 57
        }
      ]
    },
    {
      "cell_type": "code",
      "metadata": {
        "id": "t6ut6jZ1gLpx"
      },
      "source": [
        ""
      ],
      "execution_count": null,
      "outputs": []
    }
  ]
}